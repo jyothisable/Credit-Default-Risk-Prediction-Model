{
 "cells": [
  {
   "cell_type": "markdown",
   "metadata": {},
   "source": [
    "#  Intro to the Dataset and the Aim\n",
    "<img src=\"loantap_logo.png\" alt=\"LoanTap logo banner\" style=\"width: 800px;\"/>\n",
    "\n",
    "**Problem Statement**: LoanTap, an online platform offering customized loan products, is facing challenges in efficiently assessing the creditworthiness of loan applicants. By predicting the likelihood of default, the company aims to minimize risks and improve the decision-making process for loan approvals.\n",
    "\n",
    "**Objective**: The goal is to develop a machine learning model that can predict whether an applicant will default on a personal loan, based on their financial and credit history attributes. The model should help LoanTap make data-driven decisions, reducing the overall risk of default.\n",
    "\n",
    "**Dataset Overview**: LoanTap has provided a dataset containing various financial and credit-related features for loan applicants. Below is a summary of the dataset:\n",
    "\n",
    "| Column               | Description                                                              |\n",
    "|----------------------|--------------------------------------------------------------------------|\n",
    "| loan_amnt            | The loan amount applied for by the borrower                              |\n",
    "| term                 | Loan term in months (36 or 60)                                           |\n",
    "| int_rate             | Interest rate on the loan                                                |\n",
    "| installment          | Monthly payment owed if the loan originates                              |\n",
    "| grade                | LoanTap assigned grade                                                   |\n",
    "| sub_grade            | LoanTap assigned subgrade                                                |\n",
    "| emp_title            | Job title supplied by the borrower                                       |\n",
    "| emp_length           | Employment length in years (0-10)                                        |\n",
    "| home_ownership       | Home ownership status                                                    |\n",
    "| annual_inc           | Self-reported annual income                                              |\n",
    "| verification_status  | Income verification status (verified/not verified)                       |\n",
    "| issue_d              | Date the loan was funded                                                 |\n",
    "| loan_status          | Target variable (current loan status: default or not)                    |\n",
    "| purpose              | Purpose of the loan                                                      |\n",
    "| dti                  | Debt-to-income ratio                                                     |\n",
    "| earliest_cr_line     | Month the borrower’s earliest credit line was opened                     |\n",
    "| open_acc             | Number of open credit lines                                              |\n",
    "| revol_bal            | Total revolving credit balance                                           |\n",
    "| revol_util           | Revolving line utilization rate                                          |\n",
    "| total_acc            | Total number of credit lines                                             |\n",
    "| pub_rec              | Number of derogatory public records                                      |\n",
    "| application_type     | Individual or joint application                                          |\n",
    "| mort_acc             | Number of mortgage accounts                                              |\n",
    "| pub_rec_bankruptcies | Number of public record bankruptcies                                     |\n",
    "| loan_status          | Target variable indicating loan repayment status (Default or Fully Paid) |\n",
    "\n",
    "**Aim**\n",
    "\n",
    "1. To analyze which factors are critical in determining whether a borrower will default on a personal loan.\n",
    "2. To develop a predictive model that estimates the likelihood of loan default based on borrower attributes.\n",
    "3. Ensure interpretability of the model so LoanTap can understand the key drivers of defaults.\n",
    "\n",
    "**Methods and Techniques used:** EDA, feature engineering, modeling using sklearn pipelines, hyperparameter tuning\n",
    "\n",
    "**Measure of Performance and Minimum Threshold to reach the business objective** : Recall > 90% and  precision > 70% \n",
    "\n",
    "**Assumptions**\n",
    "* The dataset is assumed to be representative of LoanTap’s entire customer base.\n",
    "* The data remains stable over time, and thus, the model is assumed not to decay rapidly.\n",
    "* External factors (e.g., economic downturns) are not considered, though they could influence loan repayment behavior."
   ]
  },
  {
   "cell_type": "code",
   "execution_count": 1,
   "metadata": {},
   "outputs": [
    {
     "name": "stdout",
     "output_type": "stream",
     "text": [
      "hello world\n"
     ]
    }
   ],
   "source": []
  }
 ],
 "metadata": {
  "kernelspec": {
   "display_name": "loantap-credit-default-risk-model-jHkJKmkd-py3.12",
   "language": "python",
   "name": "python3"
  },
  "language_info": {
   "codemirror_mode": {
    "name": "ipython",
    "version": 3
   },
   "file_extension": ".py",
   "mimetype": "text/x-python",
   "name": "python",
   "nbconvert_exporter": "python",
   "pygments_lexer": "ipython3",
   "version": "3.12.5"
  }
 },
 "nbformat": 4,
 "nbformat_minor": 2
}
